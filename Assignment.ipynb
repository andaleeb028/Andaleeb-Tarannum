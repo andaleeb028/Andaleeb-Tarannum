{
  "nbformat": 4,
  "nbformat_minor": 0,
  "metadata": {
    "colab": {
      "provenance": [],
      "authorship_tag": "ABX9TyPnZ84raHfcQazTYJ2K/Byl",
      "include_colab_link": true
    },
    "kernelspec": {
      "name": "python3",
      "display_name": "Python 3"
    },
    "language_info": {
      "name": "python"
    }
  },
  "cells": [
    {
      "cell_type": "markdown",
      "metadata": {
        "id": "view-in-github",
        "colab_type": "text"
      },
      "source": [
        "<a href=\"https://colab.research.google.com/github/andaleeb028/Andaleeb-Tarannum/blob/main/Assignment.ipynb\" target=\"_parent\"><img src=\"https://colab.research.google.com/assets/colab-badge.svg\" alt=\"Open In Colab\"/></a>"
      ]
    },
    {
      "cell_type": "code",
      "execution_count": 2,
      "metadata": {
        "colab": {
          "base_uri": "https://localhost:8080/"
        },
        "id": "N8l89EGGhwnV",
        "outputId": "d9a80af6-0b17-432f-df44-bb3fe37c5b5b"
      },
      "outputs": [
        {
          "output_type": "stream",
          "name": "stdout",
          "text": [
            "Side 1 = 3\n",
            "Side 2 = 4\n",
            "Side 3 = 5\n",
            "Valid\n",
            "Side 1 = 2\n",
            "Side 2 = 4\n",
            "Side 3 = 2\n",
            "Side 4 = 4\n",
            "Invalid\n"
          ]
        }
      ],
      "source": [
        "def Triangle_Validity(a,b,c):\n",
        "  if (a+b<=c) or (a+c<=b) or (b+c <= a):\n",
        "    return False\n",
        "  else:\n",
        "    return True\n",
        "a = int(input(\"Side 1 = \"))\n",
        "b = int(input(\"Side 2 = \"))\n",
        "c = int(input(\"Side 3 = \"))\n",
        "if Triangle_Validity(a,b,c):\n",
        "  print(\"Valid\")\n",
        "else:\n",
        "  print(\"Invalid\")\n",
        "\n",
        "def Rectangle_Validity(a,b,c,d):\n",
        "  if (a == b and d == c) or (a == c and b == d) or (a == d and b == c):\n",
        "    return False\n",
        "  else:\n",
        "    return True\n",
        "a = int(input(\"Side 1 = \"))\n",
        "b = int(input(\"Side 2 = \"))\n",
        "c = int(input(\"Side 3 = \"))\n",
        "d = int(input(\"Side 4 = \"))\n",
        "if Rectangle_Validity(a,b,c,d):\n",
        "  print(\"Valid\")\n",
        "else:\n",
        "  print(\"Invalid\")\n",
        "        "
      ]
    },
    {
      "cell_type": "code",
      "source": [],
      "metadata": {
        "id": "vlL-eRZJijhv"
      },
      "execution_count": null,
      "outputs": []
    }
  ]
}