{
  "nbformat": 4,
  "nbformat_minor": 0,
  "metadata": {
    "colab": {
      "provenance": [],
      "authorship_tag": "ABX9TyMXa/TImSP34UXsmVZsvAUq",
      "include_colab_link": true
    },
    "kernelspec": {
      "name": "python3",
      "display_name": "Python 3"
    },
    "language_info": {
      "name": "python"
    }
  },
  "cells": [
    {
      "cell_type": "markdown",
      "metadata": {
        "id": "view-in-github",
        "colab_type": "text"
      },
      "source": [
        "<a href=\"https://colab.research.google.com/github/andaleeb028/Andaleeb-Tarannum/blob/main/Assignment.ipynb\" target=\"_parent\"><img src=\"https://colab.research.google.com/assets/colab-badge.svg\" alt=\"Open In Colab\"/></a>"
      ]
    },
    {
      "cell_type": "code",
      "execution_count": 3,
      "metadata": {
        "colab": {
          "base_uri": "https://localhost:8080/"
        },
        "id": "N8l89EGGhwnV",
        "outputId": "b587abf1-f8c9-4b72-d3fb-0e3f1a283cd8"
      },
      "outputs": [
        {
          "output_type": "stream",
          "name": "stdout",
          "text": [
            "Side = 5\n",
            "Sides =5\n",
            "Invalid Triangle\n",
            "Invalid Rectangle\n"
          ]
        }
      ],
      "source": [
        "class Triangle_Validate():\n",
        "    def __init__(self,lst):\n",
        "        self.lst=lst\n",
        "    def validate_triangle(self,l):\n",
        "        if len(l)==3 and (l[0]+l[1])>l[2]:\n",
        "            return \"Valid Triangle\"         \n",
        "        else:\n",
        "            return \"Invalid Triangle\"\n",
        "class Rectangle_Validate():\n",
        "    def __init__(self,lst):\n",
        "        self.lst=lst\n",
        "    def validate_rectangle(self,l):\n",
        "        if len(l)==4 and  (l[0]==l[2]) and (l[1]==l[3]):\n",
        "            return \"Valid Rectangle\"         \n",
        "        else:\n",
        "            return \"Invalid Rectangle\"\n",
        "s=list(map(int,input(\"Side = \").split()))\n",
        "t=list(map(int,input(\"Sides =\").split()))\n",
        "A=Triangle_Validate(s)       \n",
        "print(A.validate_triangle(s))\n",
        "B=Rectangle_Validate(t)\n",
        "print(B.validate_rectangle(t))\n",
        "        "
      ]
    },
    {
      "cell_type": "code",
      "source": [],
      "metadata": {
        "id": "vlL-eRZJijhv"
      },
      "execution_count": null,
      "outputs": []
    }
  ]
}