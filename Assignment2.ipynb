{
  "nbformat": 4,
  "nbformat_minor": 0,
  "metadata": {
    "colab": {
      "provenance": [],
      "authorship_tag": "ABX9TyMQEBpsJUHQ6+VWzI08Hvjb",
      "include_colab_link": true
    },
    "kernelspec": {
      "name": "python3",
      "display_name": "Python 3"
    },
    "language_info": {
      "name": "python"
    }
  },
  "cells": [
    {
      "cell_type": "markdown",
      "metadata": {
        "id": "view-in-github",
        "colab_type": "text"
      },
      "source": [
        "<a href=\"https://colab.research.google.com/github/andaleeb028/Andaleeb-Tarannum/blob/main/Assignment2.ipynb\" target=\"_parent\"><img src=\"https://colab.research.google.com/assets/colab-badge.svg\" alt=\"Open In Colab\"/></a>"
      ]
    },
    {
      "cell_type": "code",
      "source": [],
      "metadata": {
        "id": "BXHn7UfqOgaC"
      },
      "execution_count": null,
      "outputs": []
    },
    {
      "cell_type": "code",
      "source": [
        "import json\n",
        "class Employee:\n",
        "    def __init__(self):\n",
        "        self.emp_dic={}\n",
        "    def creat_JSON(self):\n",
        "        for i in range(5):\n",
        "            name = input(\"Enter your name: \")\n",
        "            dob = input('Enter your DOB: ')\n",
        "            height = input('Enter your height: ')\n",
        "            city = input('Enter your city: ')\n",
        "            state = input('Enter your state: ')\n",
        "            emp={'name':name,'dob':dob,'height':height,'city':city,'state':state}\n",
        "            emp_id = len(self.emp_dic)+1\n",
        "            self.emp_dic[emp_id]=emp\n",
        "        with open(\"emps.json\",'w') as f:\n",
        "            json.dump(self.emp_dic,f)\n",
        "\n",
        "    def data_print(self):\n",
        "        with open(\"emps.json\",\"r\") as f:\n",
        "            data = json.load(f)\n",
        "        for i in data.values():\n",
        "            l1 = []\n",
        "            l1.append(i)\n",
        "            print(l1)   \n",
        "\n",
        "x =Employee()            \n",
        "x.creat_JSON()\n",
        "print(\"--------------------------------------------------\")\n",
        "x.data_print()"
      ],
      "metadata": {
        "colab": {
          "base_uri": "https://localhost:8080/"
        },
        "id": "S_glyjePOMP1",
        "outputId": "56122b9e-4a9d-43de-c2c6-0e68bffd31ed"
      },
      "execution_count": 4,
      "outputs": [
        {
          "output_type": "stream",
          "name": "stdout",
          "text": [
            "Enter your name: andaleeb\n",
            "Enter your DOB: 02-08-1997\n",
            "Enter your height: 23\n",
            "Enter your city: bnle\n",
            "Enter your state: set\n",
            "Enter your name: aaa\n",
            "Enter your DOB: 23-2-1998\n",
            "Enter your height: 23\n",
            "Enter your city: 44\n",
            "Enter your state: we\n",
            "Enter your name: aaa\n",
            "Enter your DOB: 02323\n",
            "Enter your height: 32\n",
            "Enter your city: sara\n",
            "Enter your state: ser\n",
            "Enter your name: fgfdg\n",
            "Enter your DOB: 43543\n",
            "Enter your height: 432\n",
            "Enter your city: 54\n",
            "Enter your state: isss\n",
            "Enter your name: andlww\n",
            "Enter your DOB: 3012904\n",
            "Enter your height: 213\n",
            "Enter your city: 123\n",
            "Enter your state: 44\n",
            "--------------------------------------------------\n",
            "[{'name': 'andaleeb', 'dob': '02-08-1997', 'height': '23', 'city': 'bnle', 'state': 'set'}]\n",
            "[{'name': 'aaa', 'dob': '23-2-1998', 'height': '23', 'city': '44', 'state': 'we'}]\n",
            "[{'name': 'aaa', 'dob': '02323', 'height': '32', 'city': 'sara', 'state': 'ser'}]\n",
            "[{'name': 'fgfdg', 'dob': '43543', 'height': '432', 'city': '54', 'state': 'isss'}]\n",
            "[{'name': 'andlww', 'dob': '3012904', 'height': '213', 'city': '123', 'state': '44'}]\n"
          ]
        }
      ]
    },
    {
      "cell_type": "code",
      "source": [
        "import json \n",
        "states ={\"karnatak\":\"Banglore\",\n",
        "                 \"maharastra\":\"Mumbai\",\n",
        "                 \"Up\":\"Lucknow\",\n",
        "                \"Tamilnadu\":\"Chennai\",\n",
        "                \"West bengal\":\"Kolkatta\",\n",
        "                \"Jharkhand\":\"Ranchi\",\n",
        "           \"Bihar\":\"Patna\"} \n",
        "\n",
        "json_object = json.dumps(states, indent = 8) \n",
        "print(json_object)"
      ],
      "metadata": {
        "colab": {
          "base_uri": "https://localhost:8080/"
        },
        "id": "f8XDFzF9OpGw",
        "outputId": "c74b737e-3a6a-46b0-d52d-ec0d4813e692"
      },
      "execution_count": 5,
      "outputs": [
        {
          "output_type": "stream",
          "name": "stdout",
          "text": [
            "{\n",
            "        \"karnatak\": \"Banglore\",\n",
            "        \"maharastra\": \"Mumbai\",\n",
            "        \"Up\": \"Lucknow\",\n",
            "        \"Tamilnadu\": \"Chennai\",\n",
            "        \"West bengal\": \"Kolkatta\",\n",
            "        \"Jharkhand\": \"Ranchi\",\n",
            "        \"Bihar\": \"Patna\"\n",
            "}\n"
          ]
        }
      ]
    },
    {
      "cell_type": "code",
      "source": [
        "{\"1\": {\"name\": \"Andaleeb\", \"dob\": \"23-11-1998\", \"height\": \"5.1\", \"city\": \"Kota\", \"state\": \"Rajasthan\"},\n",
        " \"2\": {\"name\": \"Aanu\", \"dob\": \"12-7-1992\", \"height\": \"5.2\", \"city\": \"Jaipur\", \"state\": \"Rajasthan\"}, \n",
        " \"3\": {\"name\": \"Sonu\", \"dob\": \"19-11-1995\", \"height\": \"4.9\", \"city\": \"Jodhpur\", \"state\": \"Rajasthan\"}, \n",
        " \"4\": {\"name\": \"Hrishika\", \"dob\": \"23-1-1997\", \"height\": \"4.8\", \"city\": \"Ajmer\", \"state\": \"Rajasthan\"}, \n",
        " \"5\": {\"name\": \"Daksh\", \"dob\": \"29-10-1998\", \"height\": \"4.9\", \"city\": \"Udaipur\", \"state\": \"Rajasthan\"}\n",
        "}"
      ],
      "metadata": {
        "colab": {
          "base_uri": "https://localhost:8080/"
        },
        "id": "7-RHZDSJNeTn",
        "outputId": "916703ea-011f-4e55-d3e6-b1d87a4dd5ae"
      },
      "execution_count": 3,
      "outputs": [
        {
          "output_type": "execute_result",
          "data": {
            "text/plain": [
              "{'1': {'name': 'Andaleeb',\n",
              "  'dob': '23-11-1998',\n",
              "  'height': '5.1',\n",
              "  'city': 'Kota',\n",
              "  'state': 'Rajasthan'},\n",
              " '2': {'name': 'Aanu',\n",
              "  'dob': '12-7-1992',\n",
              "  'height': '5.2',\n",
              "  'city': 'Jaipur',\n",
              "  'state': 'Rajasthan'},\n",
              " '3': {'name': 'Sonu',\n",
              "  'dob': '19-11-1995',\n",
              "  'height': '4.9',\n",
              "  'city': 'Jodhpur',\n",
              "  'state': 'Rajasthan'},\n",
              " '4': {'name': 'Hrishika',\n",
              "  'dob': '23-1-1997',\n",
              "  'height': '4.8',\n",
              "  'city': 'Ajmer',\n",
              "  'state': 'Rajasthan'},\n",
              " '5': {'name': 'Daksh',\n",
              "  'dob': '29-10-1998',\n",
              "  'height': '4.9',\n",
              "  'city': 'Udaipur',\n",
              "  'state': 'Rajasthan'}}"
            ]
          },
          "metadata": {},
          "execution_count": 3
        }
      ]
    },
    {
      "cell_type": "code",
      "execution_count": 1,
      "metadata": {
        "colab": {
          "base_uri": "https://localhost:8080/"
        },
        "id": "hV_F-3UnNW6S",
        "outputId": "2504c53b-7576-47ad-89f1-cc2fa8817b2d"
      },
      "outputs": [
        {
          "output_type": "stream",
          "name": "stdout",
          "text": [
            "Dog name is:  Jaky\n",
            "Age of  Jaky  is:  5\n",
            "Coat color of  Jaky  is:  Black\n",
            "The average life span of the breed as 8 to 10 years.\n",
            "Allergies and hip issues in older Bulldogs\n",
            "Thick folds of skin on the brow, round, black, wide set eyes.\n",
            "A rope or nose roll above the nose.\n",
            "Dog name is:  Harry\n",
            "Age of  Harry  is:  4\n",
            "Coat color of  Harry  is:  Brown\n",
            "The breed has a reputation for being healthy.\n",
            "Jack Russells can live from 13 to 16 years.\n",
            "Crossbreed of a Jack Russell terrier and a Beagle is called a Jackabee.\n"
          ]
        }
      ],
      "source": [
        "class Dog:\n",
        "    def __init__(self,name,age,coat_color):\n",
        "        self.name = name\n",
        "        self.age = age\n",
        "        self.coat_color = coat_color\n",
        "    def description(self):\n",
        "        print('Dog name is: ',self.name)\n",
        "        print('Age of ',self.name,' is: ', self.age)    \n",
        "    def get_info(self):\n",
        "        print('Coat color of ',self.name,' is: ',self.coat_color)\n",
        "\n",
        "class JackRussellTerrier(Dog):\n",
        "    def health(self):\n",
        "        print('The breed has a reputation for being healthy.')\n",
        "        print('Jack Russells can live from 13 to 16 years.')\n",
        "    def Crossbreeds(self):\n",
        "        print('Crossbreed of a Jack Russell terrier and a Beagle is called a Jackabee.')    \n",
        "class Bulldog(Dog):\n",
        "    def health(self):\n",
        "        print('The average life span of the breed as 8 to 10 years.')\n",
        "        print('Allergies and hip issues in older Bulldogs')\n",
        "    def Appearance(self):\n",
        "        print('Thick folds of skin on the brow, round, black, wide set eyes.')\n",
        "        print('A rope or nose roll above the nose.')\n",
        "\n",
        "dog = Bulldog('Jaky',5,'Black')\n",
        "dog.description()\n",
        "dog.get_info()        \n",
        "dog.health()\n",
        "dog.Appearance()\n",
        "\n",
        "dog1 = JackRussellTerrier('Harry',4,'Brown')\n",
        "dog1.description()\n",
        "dog1.get_info()\n",
        "dog1.health()\n",
        "dog1.Crossbreeds()"
      ]
    }
  ]
}