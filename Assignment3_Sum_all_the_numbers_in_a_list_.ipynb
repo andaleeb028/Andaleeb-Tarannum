{
  "nbformat": 4,
  "nbformat_minor": 0,
  "metadata": {
    "colab": {
      "provenance": [],
      "authorship_tag": "ABX9TyMmDi95zKkmuKBkar/Q0zlJ",
      "include_colab_link": true
    },
    "kernelspec": {
      "name": "python3",
      "display_name": "Python 3"
    },
    "language_info": {
      "name": "python"
    }
  },
  "cells": [
    {
      "cell_type": "markdown",
      "metadata": {
        "id": "view-in-github",
        "colab_type": "text"
      },
      "source": [
        "<a href=\"https://colab.research.google.com/github/andaleeb028/Andaleeb-Tarannum/blob/main/Assignment3_Sum_all_the_numbers_in_a_list_.ipynb\" target=\"_parent\"><img src=\"https://colab.research.google.com/assets/colab-badge.svg\" alt=\"Open In Colab\"/></a>"
      ]
    },
    {
      "cell_type": "code",
      "execution_count": 8,
      "metadata": {
        "colab": {
          "base_uri": "https://localhost:8080/"
        },
        "id": "3yTa8aWHgqCt",
        "outputId": "c583332c-d31c-417b-e8c9-ef9208ae5931"
      },
      "outputs": [
        {
          "output_type": "execute_result",
          "data": {
            "text/plain": [
              "58"
            ]
          },
          "metadata": {},
          "execution_count": 8
        }
      ],
      "source": [
        "def summation(list1):\n",
        "  sum = 0\n",
        "  for i in list1:\n",
        "    sum = sum + i\n",
        "  return sum\n",
        "summation([2,24,3,23,4,2])"
      ]
    },
    {
      "cell_type": "code",
      "source": [
        "def summation(lst1):\n",
        "  lst = []\n",
        "  num = int(input('How many numbers: '))\n",
        "  for n in range(num):\n",
        "    numbers = int(input('Enter number '))\n",
        "    lst.append(numbers)\n",
        "  print(\"Sum of elements in given list is :\", sum(lst))\n",
        "summation(lst1)"
      ],
      "metadata": {
        "colab": {
          "base_uri": "https://localhost:8080/"
        },
        "id": "WAtKCWHrkYb-",
        "outputId": "8439c88e-2a1c-424b-f179-78c5d5abaf9f"
      },
      "execution_count": 11,
      "outputs": [
        {
          "output_type": "stream",
          "name": "stdout",
          "text": [
            "How many numbers: 5\n",
            "Enter number 1\n",
            "Enter number 2\n",
            "Enter number 3\n",
            "Enter number 4\n",
            "Enter number 5\n",
            "Sum of elements in given list is : 15\n"
          ]
        }
      ]
    }
  ]
}