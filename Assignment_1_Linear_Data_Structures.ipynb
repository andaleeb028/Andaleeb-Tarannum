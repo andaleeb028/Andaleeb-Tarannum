{
  "nbformat": 4,
  "nbformat_minor": 0,
  "metadata": {
    "colab": {
      "provenance": [],
      "authorship_tag": "ABX9TyNRSy/1UwlRz6RugPzWctl+",
      "include_colab_link": true
    },
    "kernelspec": {
      "name": "python3",
      "display_name": "Python 3"
    },
    "language_info": {
      "name": "python"
    }
  },
  "cells": [
    {
      "cell_type": "markdown",
      "metadata": {
        "id": "view-in-github",
        "colab_type": "text"
      },
      "source": [
        "<a href=\"https://colab.research.google.com/github/andaleeb028/Andaleeb-Tarannum/blob/main/Assignment_1_Linear_Data_Structures.ipynb\" target=\"_parent\"><img src=\"https://colab.research.google.com/assets/colab-badge.svg\" alt=\"Open In Colab\"/></a>"
      ]
    },
    {
      "cell_type": "markdown",
      "source": [
        "# **Write a program to find all pairs of an integer array whose sum is equal to a given number?**"
      ],
      "metadata": {
        "id": "lkvnXUInqimu"
      }
    },
    {
      "cell_type": "code",
      "execution_count": 6,
      "metadata": {
        "colab": {
          "base_uri": "https://localhost:8080/"
        },
        "id": "NBVSQLgPqacp",
        "outputId": "272dba89-68c8-4e32-831c-ba3c8196f45a"
      },
      "outputs": [
        {
          "output_type": "stream",
          "name": "stdout",
          "text": [
            "Pairs count =  1\n",
            "Pairs count =  2\n",
            "Pairs count =  3\n",
            "Pairs count =  4\n"
          ]
        }
      ],
      "source": [
        "def find_pairs(arr, n, sum_of_no):\n",
        "    n = len(arr)\n",
        "    sum_of_no = 6\n",
        "    pairs_count = 0\n",
        "    for i in range(0, n):\n",
        "        for j in range(i+1, n):\n",
        "            if arr[i] + arr[j] == sum_of_no:\n",
        "                pairs_count += 1\n",
        "                print(\"Pairs count = \", pairs_count)\n",
        "arr = [0, 2, 1, 4, 5 ,7 ,-2, 8, 4]\n",
        "find_pairs(arr, n=arr, sum_of_no=7)\n",
        "\n"
      ]
    },
    {
      "cell_type": "markdown",
      "source": [
        "# **Write a program to reverse an array in place? In place means you cannot create a new array. You have to update the original array.**"
      ],
      "metadata": {
        "id": "yjnNoMAysxiV"
      }
    },
    {
      "cell_type": "code",
      "source": [
        "size = int(input(\"Enter the size = \"))\n",
        "arr = []\n",
        "for i in range(size):\n",
        "  elements = int(input(\"Enter elements = \"))\n",
        "  arr.append(elements)\n",
        "print(arr)\n",
        "arr = arr[::-1]\n",
        "print(\"Reversed array = \", arr)\n"
      ],
      "metadata": {
        "colab": {
          "base_uri": "https://localhost:8080/"
        },
        "id": "w_kKkYD0ran4",
        "outputId": "ea41b1d9-c0a6-4b6f-89b2-37a8174b559e"
      },
      "execution_count": 7,
      "outputs": [
        {
          "output_type": "stream",
          "name": "stdout",
          "text": [
            "Enter the size = 4\n",
            "Enter elements = 3\n",
            "Enter elements = 4\n",
            "Enter elements = 3\n",
            "Enter elements = 4\n",
            "[3, 4, 3, 4]\n",
            "Reversed array =  [4, 3, 4, 3]\n"
          ]
        }
      ]
    },
    {
      "cell_type": "markdown",
      "source": [
        "# **Q3. Write a program to check if two strings are a rotation of each other?**"
      ],
      "metadata": {
        "id": "lhfz-84Yt16y"
      }
    },
    {
      "cell_type": "code",
      "source": [
        "def rotation(s1,s2):\n",
        "  if len(s1) == len(s2):\n",
        "    temp = s1 + s2\n",
        "    if temp.count(s2)>0:\n",
        "      return 1\n",
        "  else:\n",
        "    return 0\n",
        "s1 = input(\"Enter the string1 =\")\n",
        "s2 = input(\"Enter the string2 =\")\n",
        "if rotation(s1,s2):\n",
        "  print(\"Yes, rotation of each other --> \",s1,\"==\",s2)\n",
        "else:\n",
        "  print(\"No, enter another strings\")\n"
      ],
      "metadata": {
        "colab": {
          "base_uri": "https://localhost:8080/"
        },
        "id": "eoCZMOTrt1b7",
        "outputId": "9e6fd6c1-5ccb-4ee1-ad2e-02eadc36c0a1"
      },
      "execution_count": 11,
      "outputs": [
        {
          "output_type": "stream",
          "name": "stdout",
          "text": [
            "Enter the string1 =ssss\n",
            "Enter the string2 =ssss\n",
            "Yes, rotation of each other -->  ssss == ssss\n"
          ]
        }
      ]
    },
    {
      "cell_type": "markdown",
      "source": [
        "# **Q4. Write a program to print the first non-repeated character from a string?**"
      ],
      "metadata": {
        "id": "Ry2h70oIvTMh"
      }
    },
    {
      "cell_type": "code",
      "source": [
        "def non_repeated(str1):\n",
        "  for i in str1:\n",
        "    count = str1.count(i)\n",
        "    if count == 1:\n",
        "      return i\n",
        "      break\n",
        "str1 = input(\"Enter the string ==>\")\n",
        "non_repeated(str1)\n"
      ],
      "metadata": {
        "colab": {
          "base_uri": "https://localhost:8080/",
          "height": 54
        },
        "id": "qNSyMCa6u-fj",
        "outputId": "1d1fc196-66de-42ec-d5c8-2ab6bff7c2dd"
      },
      "execution_count": 12,
      "outputs": [
        {
          "name": "stdout",
          "output_type": "stream",
          "text": [
            "Enter the string ==>andaleeb\n"
          ]
        },
        {
          "output_type": "execute_result",
          "data": {
            "text/plain": [
              "'n'"
            ],
            "application/vnd.google.colaboratory.intrinsic+json": {
              "type": "string"
            }
          },
          "metadata": {},
          "execution_count": 12
        }
      ]
    },
    {
      "cell_type": "markdown",
      "source": [
        "# **Q5. Read about the Tower of Hanoi algorithm. Write a program to implement it.**"
      ],
      "metadata": {
        "id": "QyNFPLtnwDVJ"
      }
    },
    {
      "cell_type": "code",
      "source": [
        "def TowerOfHanoi(n , source, destination, auxiliary):\n",
        "\tif n==1:\n",
        "\t\tprint (\"Move disk 1 from source\",source,\"to destination\",destination)\n",
        "\t\treturn\n",
        "\tTowerOfHanoi(n-1, source, auxiliary, destination)\n",
        "\tprint (\"Move disk\",n,\"from source\",source,\"to destination\",destination)\n",
        "\tTowerOfHanoi(n-1, auxiliary, destination, source)\n",
        "n = int(input(\"Enter size of tower ==> \"))\n",
        "TowerOfHanoi(n,'A','B','C')\n",
        "\n"
      ],
      "metadata": {
        "colab": {
          "base_uri": "https://localhost:8080/"
        },
        "id": "GIYWJqVewHTF",
        "outputId": "170518ed-3fef-4ed2-81ea-abbf77c69a43"
      },
      "execution_count": 18,
      "outputs": [
        {
          "output_type": "stream",
          "name": "stdout",
          "text": [
            "Enter size of tower ==> 2\n",
            "Move disk 1 from source A to destination C\n",
            "Move disk 2 from source A to destination B\n",
            "Move disk 1 from source C to destination B\n"
          ]
        }
      ]
    },
    {
      "cell_type": "markdown",
      "source": [
        "# **Q6. Read about infix, prefix, and postfix expressions. Write a program to convert postfix to prefix expression.**"
      ],
      "metadata": {
        "id": "YfFZQ-KbxIOg"
      }
    },
    {
      "cell_type": "code",
      "source": [
        "def is_operator(n):\n",
        "    if n == \"+\":\n",
        "        return True\n",
        "    if n == \"-\":\n",
        "        return True\n",
        "    if n == \"/\":\n",
        "        return True\n",
        "    if n == \"*\":\n",
        "        return True\n",
        "    return False\n",
        "\n",
        "def post_pre(x):\n",
        "    s = []\n",
        "    length = len(x)\n",
        "    for i in range(length):\n",
        "        if (is_operator(x[i])):\n",
        "            op1 = s[-1]\n",
        "            s.pop()\n",
        "            op2 = s[-1]\n",
        "            s.pop()\n",
        "            temp = x[i] + op2 + op1\n",
        "            s.append(temp)\n",
        "        else:\n",
        "             s.append(x[i])\n",
        "    ans = \"\"\n",
        "    for i in s:\n",
        "        ans += i\n",
        "    return ans\n",
        "\n",
        "x = input(\"Enter expression = \")\n",
        "print(\"Prefix : \", post_pre(x))"
      ],
      "metadata": {
        "colab": {
          "base_uri": "https://localhost:8080/"
        },
        "id": "JyOJKklnxH-k",
        "outputId": "94263a87-8852-4592-e185-6152a2a1ea98"
      },
      "execution_count": 20,
      "outputs": [
        {
          "output_type": "stream",
          "name": "stdout",
          "text": [
            "Enter expression = AB-WDS+)\n",
            "Prefix :  -ABW+DS)\n"
          ]
        }
      ]
    },
    {
      "cell_type": "markdown",
      "source": [
        "# **Q7. Write a program to convert prefix expression to infix expression.**"
      ],
      "metadata": {
        "id": "TAatfQbnxx6y"
      }
    },
    {
      "cell_type": "code",
      "source": [
        "def prefixToInfix(prefix):\n",
        "    stack = []\n",
        "    i = len(prefix) - 1\n",
        "    while i >= 0:\n",
        "        if not isOperator(prefix[i]):\n",
        "\n",
        "            stack.append(prefix[i])\n",
        "            i -= 1\n",
        "        else:\n",
        "            str = \"(\" + stack.pop() + prefix[i] + stack.pop() + \")\"\n",
        "            stack.append(str)\n",
        "            i -= 1\n",
        "    return stack.pop()\n",
        "\n",
        "def isOperator(c):\n",
        "    if c == \"*\" or c == \"+\" or c == \"-\" or c == \"/\" or c == \"^\" or c == \"(\" or c == \")\":\n",
        "        return True\n",
        "    else:\n",
        "        return False\n",
        "\n",
        "str = input(\"Enter the expression ==> \")\n",
        "print(prefixToInfix(str))"
      ],
      "metadata": {
        "colab": {
          "base_uri": "https://localhost:8080/"
        },
        "id": "vdZOMOUpxxpl",
        "outputId": "595bc225-6e0b-49c5-dfca-f7c27a53abd9"
      },
      "execution_count": 23,
      "outputs": [
        {
          "output_type": "stream",
          "name": "stdout",
          "text": [
            "Enter the expression ==> *-A/BC-/AKL\n",
            "((A-(B/C))*((A/K)-L))\n"
          ]
        }
      ]
    },
    {
      "cell_type": "markdown",
      "source": [
        "# **Q8. Write a program to check if all the brackets are closed in a given code snippet.**"
      ],
      "metadata": {
        "id": "ZwHf9v-AyG17"
      }
    },
    {
      "cell_type": "code",
      "source": [
        "def brackets_check(x):\n",
        "    var = []\n",
        " \n",
        "    for i in x:\n",
        "        if i in [\"(\", \"{\", \"[\"]:\n",
        "            var.append(i)\n",
        "            \n",
        "        else:\n",
        "            if not var:\n",
        "                return False\n",
        "            temp_char = var.pop()\n",
        "            if temp_char == '(':\n",
        "                if i != \")\":\n",
        "                    return False\n",
        "            if temp_char == '{':\n",
        "                if i != \"}\":\n",
        "                    return False\n",
        "            if temp_char == '[':\n",
        "                if i != \"]\":\n",
        "                    return False\n",
        "    if var:\n",
        "        return False\n",
        "    return True\n",
        "\n",
        "x = input(\"Enter the brackets = \")\n",
        "    \n",
        "if brackets_check(x):\n",
        "    print(\"Balanced\")\n",
        "else:\n",
        "    print(\"Not Balanced, Kindly balance it \")"
      ],
      "metadata": {
        "colab": {
          "base_uri": "https://localhost:8080/"
        },
        "id": "QyhlJqW3yacK",
        "outputId": "34d5409f-9bba-459b-f6d0-42245bfeacd9"
      },
      "execution_count": 27,
      "outputs": [
        {
          "output_type": "stream",
          "name": "stdout",
          "text": [
            "Enter the brackets = {}\n",
            "Balanced\n"
          ]
        }
      ]
    },
    {
      "cell_type": "markdown",
      "source": [
        "# **Q9. Write a program to reverse a stack.**"
      ],
      "metadata": {
        "id": "qetOicvmyxur"
      }
    },
    {
      "cell_type": "code",
      "source": [
        "def reverse_stack(stack):\n",
        "    stack = reversed(stack)\n",
        "    return list(stack)\n",
        "stack = [11,12,13,14,15]\n",
        "\n",
        "print(\"Original Stack\", *stack, sep='\\n')\n",
        "print(\"Reversed Stack\", *reverse_stack(stack), sep='\\n')"
      ],
      "metadata": {
        "colab": {
          "base_uri": "https://localhost:8080/"
        },
        "id": "G6odLrjCyxbh",
        "outputId": "d341a111-e1f6-45cd-c7be-04f0023178b0"
      },
      "execution_count": 28,
      "outputs": [
        {
          "output_type": "stream",
          "name": "stdout",
          "text": [
            "Original Stack\n",
            "11\n",
            "12\n",
            "13\n",
            "14\n",
            "15\n",
            "Reversed Stack\n",
            "15\n",
            "14\n",
            "13\n",
            "12\n",
            "11\n"
          ]
        }
      ]
    },
    {
      "cell_type": "markdown",
      "source": [
        "# **Q10. Write a program to find the smallest number using a stack.**"
      ],
      "metadata": {
        "id": "dKka1D6Ky8ze"
      }
    },
    {
      "cell_type": "code",
      "source": [
        "def min_value(stack):\n",
        "    x=sorted(stack)\n",
        "    return x[0]\n",
        "    \n",
        "stack=[50,7,4,3,-1]    \n",
        "min_value(stack) \n",
        "\n"
      ],
      "metadata": {
        "colab": {
          "base_uri": "https://localhost:8080/"
        },
        "id": "YA-EjoTpy-P4",
        "outputId": "8e491ab0-644c-4fdb-c208-0f25e4894959"
      },
      "execution_count": 31,
      "outputs": [
        {
          "output_type": "execute_result",
          "data": {
            "text/plain": [
              "-1"
            ]
          },
          "metadata": {},
          "execution_count": 31
        }
      ]
    },
    {
      "cell_type": "code",
      "source": [
        "stack1 = [45,67,23,55,14,88,90]\n",
        "min(*stack1)"
      ],
      "metadata": {
        "colab": {
          "base_uri": "https://localhost:8080/"
        },
        "id": "arDc_hYCzGkp",
        "outputId": "3ed2b73f-3c6e-4f69-a988-01f930ddda44"
      },
      "execution_count": 32,
      "outputs": [
        {
          "output_type": "execute_result",
          "data": {
            "text/plain": [
              "14"
            ]
          },
          "metadata": {},
          "execution_count": 32
        }
      ]
    }
  ]
}