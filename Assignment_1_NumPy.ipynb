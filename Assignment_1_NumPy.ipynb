{
  "nbformat": 4,
  "nbformat_minor": 0,
  "metadata": {
    "colab": {
      "provenance": [],
      "authorship_tag": "ABX9TyNqDlswMIxqEECGQjt7GzkI",
      "include_colab_link": true
    },
    "kernelspec": {
      "name": "python3",
      "display_name": "Python 3"
    },
    "language_info": {
      "name": "python"
    }
  },
  "cells": [
    {
      "cell_type": "markdown",
      "metadata": {
        "id": "view-in-github",
        "colab_type": "text"
      },
      "source": [
        "<a href=\"https://colab.research.google.com/github/andaleeb028/Andaleeb-Tarannum/blob/main/Assignment_1_NumPy.ipynb\" target=\"_parent\"><img src=\"https://colab.research.google.com/assets/colab-badge.svg\" alt=\"Open In Colab\"/></a>"
      ]
    },
    {
      "cell_type": "markdown",
      "source": [
        "# **Question 1**"
      ],
      "metadata": {
        "id": "eunhbImZKWoK"
      }
    },
    {
      "cell_type": "code",
      "execution_count": 1,
      "metadata": {
        "colab": {
          "base_uri": "https://localhost:8080/"
        },
        "id": "Xx8o_wWxcG1j",
        "outputId": "917cff2b-4fa8-4c70-b92d-f473ad8c9a98"
      },
      "outputs": [
        {
          "output_type": "stream",
          "name": "stdout",
          "text": [
            "Looking in indexes: https://pypi.org/simple, https://us-python.pkg.dev/colab-wheels/public/simple/\n",
            "Requirement already satisfied: numpy in /usr/local/lib/python3.8/dist-packages (1.21.6)\n",
            "[0 0 0 0 1 0 0 0 0 0]\n"
          ]
        }
      ],
      "source": [
        "!pip install numpy\n",
        "import numpy as np\n",
        "a= np.zeros(10,dtype='int32')\n",
        "a[4]=1\n",
        "print(a)\n"
      ]
    },
    {
      "cell_type": "markdown",
      "source": [
        "# **Question 2**"
      ],
      "metadata": {
        "id": "c0xbhP-oKdtF"
      }
    },
    {
      "cell_type": "code",
      "source": [
        "a=np.random.randint(10,49,size=(10))\n",
        "print(a)"
      ],
      "metadata": {
        "colab": {
          "base_uri": "https://localhost:8080/"
        },
        "id": "kP7JXwuhKi72",
        "outputId": "fadbd7e6-da8f-42b3-babd-9aeb2534097e"
      },
      "execution_count": 2,
      "outputs": [
        {
          "output_type": "stream",
          "name": "stdout",
          "text": [
            "[37 35 24 35 47 17 25 15 43 36]\n"
          ]
        }
      ]
    },
    {
      "cell_type": "markdown",
      "source": [
        "# **Question 3**"
      ],
      "metadata": {
        "id": "N6xNhQu9Ktx0"
      }
    },
    {
      "cell_type": "code",
      "source": [
        "x =  np.arange(2, 11).reshape(3,3)\n",
        "print(x)\n"
      ],
      "metadata": {
        "colab": {
          "base_uri": "https://localhost:8080/"
        },
        "id": "c_sEeL1sKv9x",
        "outputId": "ed770d12-e6b9-45d8-a2ef-db10ba5c7b2c"
      },
      "execution_count": 3,
      "outputs": [
        {
          "output_type": "stream",
          "name": "stdout",
          "text": [
            "[[ 2  3  4]\n",
            " [ 5  6  7]\n",
            " [ 8  9 10]]\n"
          ]
        }
      ]
    },
    {
      "cell_type": "markdown",
      "source": [
        "# **Question 4**"
      ],
      "metadata": {
        "id": "C9k03lOzK6Q_"
      }
    },
    {
      "cell_type": "code",
      "source": [
        "a= np.array([1,2,0,0,4,0])\n",
        "for i in range(6) :\n",
        " if a[i]!=0 : \n",
        "    print(i)"
      ],
      "metadata": {
        "colab": {
          "base_uri": "https://localhost:8080/"
        },
        "id": "R9vP3fAHK52j",
        "outputId": "eaf0d0c9-cd38-48cb-e365-1900aad2d8e3"
      },
      "execution_count": 4,
      "outputs": [
        {
          "output_type": "stream",
          "name": "stdout",
          "text": [
            "0\n",
            "1\n",
            "4\n"
          ]
        }
      ]
    },
    {
      "cell_type": "markdown",
      "source": [
        "# **Question 4**"
      ],
      "metadata": {
        "id": "6lqU7bE4LL0u"
      }
    },
    {
      "cell_type": "code",
      "source": [
        "import numpy as np\n",
        "x = np.random.random((10,10))\n",
        "print(\"Original Array:\")\n",
        "print(x) \n",
        "xmin, xmax = x.min(), x.max()\n",
        "print(\"Minimum and Maximum Values:\")\n",
        "print(xmin, xmax)\n"
      ],
      "metadata": {
        "colab": {
          "base_uri": "https://localhost:8080/"
        },
        "id": "wlObyDMxLQVx",
        "outputId": "73b91eef-d3cf-4b2b-a085-7d68edc490ac"
      },
      "execution_count": 5,
      "outputs": [
        {
          "output_type": "stream",
          "name": "stdout",
          "text": [
            "Original Array:\n",
            "[[0.099725   0.78481462 0.16994193 0.44565341 0.98050141 0.86431617\n",
            "  0.34313971 0.78243813 0.68239875 0.93075785]\n",
            " [0.60623917 0.5009267  0.89019723 0.16218122 0.90267595 0.42473591\n",
            "  0.82874167 0.44999061 0.83304542 0.73859421]\n",
            " [0.9320736  0.19280984 0.875326   0.78722398 0.55463268 0.49612214\n",
            "  0.53988916 0.05130033 0.66440505 0.10341972]\n",
            " [0.59264028 0.731806   0.20203123 0.46052452 0.36052758 0.06936284\n",
            "  0.44356504 0.94013452 0.25544494 0.05738946]\n",
            " [0.10463789 0.86106012 0.32200599 0.16491048 0.51617549 0.61508171\n",
            "  0.35413978 0.54086039 0.96539727 0.69922743]\n",
            " [0.44142267 0.27214556 0.79669767 0.9022538  0.19202824 0.43563344\n",
            "  0.38408331 0.07524991 0.91218145 0.05370744]\n",
            " [0.68966778 0.77346107 0.21306342 0.92921287 0.83646771 0.13163051\n",
            "  0.7015162  0.54812407 0.6688143  0.1251959 ]\n",
            " [0.93271238 0.76784865 0.77952991 0.0901524  0.73896341 0.92899611\n",
            "  0.14484258 0.84864874 0.82825475 0.8805662 ]\n",
            " [0.94936724 0.44796313 0.55918273 0.8439606  0.97211781 0.69998083\n",
            "  0.25570906 0.5377307  0.6584311  0.5894033 ]\n",
            " [0.94676785 0.40735653 0.98128207 0.29569516 0.11695876 0.44898086\n",
            "  0.20257259 0.08446176 0.06190374 0.37416167]]\n",
            "Minimum and Maximum Values:\n",
            "0.05130033258636879 0.9812820727179059\n"
          ]
        }
      ]
    },
    {
      "cell_type": "markdown",
      "source": [
        "# **Question 5**"
      ],
      "metadata": {
        "id": "rsaJkELDLpmr"
      }
    },
    {
      "cell_type": "code",
      "source": [
        "a= np.random.randint(0,100,size=(30))\n",
        "print(a)\n",
        "np.mean(a)\n"
      ],
      "metadata": {
        "colab": {
          "base_uri": "https://localhost:8080/"
        },
        "id": "CXi_I8HlLyWO",
        "outputId": "fe08614a-efca-4dfd-c71d-a480a9fb3698"
      },
      "execution_count": 6,
      "outputs": [
        {
          "output_type": "stream",
          "name": "stdout",
          "text": [
            "[32 34 60 48 52 34 58  6 51 79 48 10 43 17 29  8 41 15 30 83 65 14 67 96\n",
            " 78 94 34 53 34 20]\n"
          ]
        },
        {
          "output_type": "execute_result",
          "data": {
            "text/plain": [
              "44.43333333333333"
            ]
          },
          "metadata": {},
          "execution_count": 6
        }
      ]
    }
  ]
}