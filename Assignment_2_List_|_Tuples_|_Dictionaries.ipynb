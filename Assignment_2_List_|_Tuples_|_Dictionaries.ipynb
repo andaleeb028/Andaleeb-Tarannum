{
  "nbformat": 4,
  "nbformat_minor": 0,
  "metadata": {
    "colab": {
      "provenance": [],
      "authorship_tag": "ABX9TyNdFtBjgqmbS7pgAOAg4upc",
      "include_colab_link": true
    },
    "kernelspec": {
      "name": "python3",
      "display_name": "Python 3"
    },
    "language_info": {
      "name": "python"
    }
  },
  "cells": [
    {
      "cell_type": "markdown",
      "metadata": {
        "id": "view-in-github",
        "colab_type": "text"
      },
      "source": [
        "<a href=\"https://colab.research.google.com/github/andaleeb028/Andaleeb-Tarannum/blob/main/Assignment_2_List_%7C_Tuples_%7C_Dictionaries.ipynb\" target=\"_parent\"><img src=\"https://colab.research.google.com/assets/colab-badge.svg\" alt=\"Open In Colab\"/></a>"
      ]
    },
    {
      "cell_type": "code",
      "execution_count": 5,
      "metadata": {
        "colab": {
          "base_uri": "https://localhost:8080/"
        },
        "id": "aJ1ipG_fpoao",
        "outputId": "3cf6b250-3ca0-4e50-8c18-6279f5c3014c"
      },
      "outputs": [
        {
          "output_type": "stream",
          "name": "stdout",
          "text": [
            "Enter the number = 5\n",
            "Enter keys = 3\n",
            "Enter values = 5\n",
            "Enter keys = 1\n",
            "Enter values = 77\n",
            "Enter keys = 4\n",
            "Enter values = 33\n",
            "Enter keys = 5\n",
            "Enter values = 99\n",
            "Enter keys = 4\n",
            "Enter values = 55\n",
            "{'3': '5', '1': '77', '4': '55', '5': '99'}\n",
            "['5', '55', '77', '99']\n",
            "{'3': '5', '4': '55', '1': '77', '5': '99'}\n",
            "Required output =  [('3', '5'), ('4', '55'), ('1', '77'), ('5', '99')]\n",
            "<class 'list'>\n"
          ]
        }
      ],
      "source": [
        "num = int(input(\"Enter the number = \"))\n",
        "class_dict = dict()\n",
        "for i in range(num):\n",
        "  key = input(\"Enter keys = \")\n",
        "  value = input(\"Enter values = \")\n",
        "  class_dict[key] = value\n",
        "print(class_dict)\n",
        "value1 = class_dict.values()\n",
        "list_val = list(value1)\n",
        "for k in range(len(list_val)):\n",
        "  for l in range(k+1,len(list_val)):\n",
        "    if list_val[k]>list_val[l]:\n",
        "      list_val[k],list_val[l] = list_val[l],list_val[k]\n",
        "print(list_val)\n",
        "new_dictionary = {}\n",
        "for v in list_val:\n",
        "  for ky in class_dict.keys():\n",
        "    if class_dict[ky] == v:\n",
        "      new_dictionary[ky] = class_dict[ky]\n",
        "print(new_dictionary)\n",
        "list_tuple = list(new_dictionary.items())\n",
        "print(\"Required output = \", (list_tuple))\n",
        "print(type(list_tuple))"
      ]
    }
  ]
}