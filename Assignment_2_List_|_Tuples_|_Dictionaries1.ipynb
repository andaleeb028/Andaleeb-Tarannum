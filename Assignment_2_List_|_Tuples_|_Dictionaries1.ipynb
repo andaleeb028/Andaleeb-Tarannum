{
  "nbformat": 4,
  "nbformat_minor": 0,
  "metadata": {
    "colab": {
      "provenance": [],
      "authorship_tag": "ABX9TyNykAXSAEq3DO2bK1zJ6z/3",
      "include_colab_link": true
    },
    "kernelspec": {
      "name": "python3",
      "display_name": "Python 3"
    },
    "language_info": {
      "name": "python"
    }
  },
  "cells": [
    {
      "cell_type": "markdown",
      "metadata": {
        "id": "view-in-github",
        "colab_type": "text"
      },
      "source": [
        "<a href=\"https://colab.research.google.com/github/andaleeb028/Andaleeb-Tarannum/blob/main/Assignment_2_List_%7C_Tuples_%7C_Dictionaries1.ipynb\" target=\"_parent\"><img src=\"https://colab.research.google.com/assets/colab-badge.svg\" alt=\"Open In Colab\"/></a>"
      ]
    },
    {
      "cell_type": "code",
      "execution_count": 4,
      "metadata": {
        "colab": {
          "base_uri": "https://localhost:8080/"
        },
        "id": "2f0Yk7EvHNuM",
        "outputId": "04387268-56cd-45bf-fe57-477b9a0cb0da"
      },
      "outputs": [
        {
          "output_type": "stream",
          "name": "stdout",
          "text": [
            "Enter the size of elements = 4\n",
            "Enter the elements in first list = 3\n",
            "Enter the elements in first list = 6\n",
            "Enter the elements in first list = 1\n",
            "Enter the elements in first list = 2\n",
            "First list =  [3, 6, 1, 2]\n",
            "Enter the elements in second list = 9\n",
            "Enter the elements in second list = 4\n",
            "Enter the elements in second list = 3\n",
            "Enter the elements in second list = 11\n",
            "Second list =  [9, 4, 3, 11]\n",
            "Created list of tuples =  [(3, 9), (6, 4), (1, 3), (2, 11)]\n",
            "Length of list of tuple =  4\n",
            "Sorted list of tuple [(1, 3), (6, 4), (3, 9), (2, 11)]\n"
          ]
        }
      ],
      "source": [
        "size = int(input(\"Enter the size of elements = \"))\n",
        "\n",
        "list1 = []\n",
        "for i in range(size):\n",
        "  elements1 = int(input(\"Enter the elements in first list = \"))\n",
        "  list1.append(elements1)\n",
        "print(\"First list = \", list1)\n",
        "\n",
        "list2 = []\n",
        "for j in range(size):\n",
        "  elements2 = int(input(\"Enter the elements in second list = \"))\n",
        "  list2.append(elements2)\n",
        "print(\"Second list = \", list2)\n",
        "\n",
        "list_of_tuple = list(zip(list1,list2))\n",
        "print(\"Created list of tuples = \", list_of_tuple)\n",
        "\n",
        "length = len(list_of_tuple)\n",
        "print(\"Length of list of tuple = \", length_of_list_of_tuple)\n",
        "\n",
        "for k in range(0,length):\n",
        "  for l in range(0, length-k-1):\n",
        "    if(list_of_tuple[l][1] > list_of_tuple[l+1][1]):\n",
        "      temp = list_of_tuple[l]\n",
        "      list_of_tuple[l]= list_of_tuple[l + 1]\n",
        "      list_of_tuple[l + 1]= temp\n",
        "print(\"Sorted list of tuple\", list_of_tuple)"
      ]
    }
  ]
}