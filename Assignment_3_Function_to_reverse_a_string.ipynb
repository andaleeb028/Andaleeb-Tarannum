{
  "nbformat": 4,
  "nbformat_minor": 0,
  "metadata": {
    "colab": {
      "provenance": [],
      "authorship_tag": "ABX9TyO7/+9aOoGZouF1AHFoaeO1",
      "include_colab_link": true
    },
    "kernelspec": {
      "name": "python3",
      "display_name": "Python 3"
    },
    "language_info": {
      "name": "python"
    }
  },
  "cells": [
    {
      "cell_type": "markdown",
      "metadata": {
        "id": "view-in-github",
        "colab_type": "text"
      },
      "source": [
        "<a href=\"https://colab.research.google.com/github/andaleeb028/Andaleeb-Tarannum/blob/main/Assignment_3_Function_to_reverse_a_string.ipynb\" target=\"_parent\"><img src=\"https://colab.research.google.com/assets/colab-badge.svg\" alt=\"Open In Colab\"/></a>"
      ]
    },
    {
      "cell_type": "code",
      "execution_count": 2,
      "metadata": {
        "colab": {
          "base_uri": "https://localhost:8080/"
        },
        "id": "EiWu1fzPlgfT",
        "outputId": "fff4a043-c3ad-4d67-8527-278c5f44f7dd"
      },
      "outputs": [
        {
          "output_type": "stream",
          "name": "stdout",
          "text": [
            "Enter a string = Edyoda\n",
            "The original string is : Edyoda\n",
            "The reversed string is : adoydE\n"
          ]
        }
      ],
      "source": [
        "def reverse(s):\n",
        "\tstring = \"\"\n",
        "\tfor i in s:\n",
        "\t\tstring = i + string\n",
        "\treturn string\n",
        "\n",
        "s = input(\"Enter a string = \")\n",
        "print(\"The original string is : \", end=\"\")\n",
        "print(s)\n",
        "\n",
        "print(\"The reversed string is : \", end=\"\")\n",
        "print(reverse(s))\n"
      ]
    }
  ]
}