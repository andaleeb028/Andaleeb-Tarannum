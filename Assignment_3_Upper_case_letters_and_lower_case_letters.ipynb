{
  "nbformat": 4,
  "nbformat_minor": 0,
  "metadata": {
    "colab": {
      "provenance": [],
      "authorship_tag": "ABX9TyP1v+7jPYBwUGGhY4zP+1zK",
      "include_colab_link": true
    },
    "kernelspec": {
      "name": "python3",
      "display_name": "Python 3"
    },
    "language_info": {
      "name": "python"
    }
  },
  "cells": [
    {
      "cell_type": "markdown",
      "metadata": {
        "id": "view-in-github",
        "colab_type": "text"
      },
      "source": [
        "<a href=\"https://colab.research.google.com/github/andaleeb028/Andaleeb-Tarannum/blob/main/Assignment_3_Upper_case_letters_and_lower_case_letters.ipynb\" target=\"_parent\"><img src=\"https://colab.research.google.com/assets/colab-badge.svg\" alt=\"Open In Colab\"/></a>"
      ]
    },
    {
      "cell_type": "code",
      "execution_count": 3,
      "metadata": {
        "colab": {
          "base_uri": "https://localhost:8080/"
        },
        "id": "28xQYGrgmOfA",
        "outputId": "794c9b3a-2bfd-42af-c7bb-7729761883f8"
      },
      "outputs": [
        {
          "output_type": "stream",
          "name": "stdout",
          "text": [
            "Enter sentence :- Edyoda Classes are going Fine\n",
            "Original String :  Edyoda Classes are going Fine\n",
            "No. of Uppercase characters :  3\n",
            "No. of Lowercase characters :  22\n"
          ]
        }
      ],
      "source": [
        "def string_test(s):\n",
        "    d = {\"UPPER_CASE\" : 0, \"LOWER_CASE\" : 0}\n",
        "    for c in s:\n",
        "        if c.isupper():\n",
        "            d[\"UPPER_CASE\"] = d[\"UPPER_CASE\"] + 1\n",
        "        elif c.islower ():\n",
        "            d[\"LOWER_CASE\"] = d[\"LOWER_CASE\"] + 1\n",
        "        else:\n",
        "            pass\n",
        "    print (\"Original String : \", s)\n",
        "    print (\"No. of Uppercase characters : \", d[\"UPPER_CASE\"])\n",
        "    print (\"No. of Lowercase characters : \", d[\"LOWER_CASE\"])\n",
        "sentence = input (\"Enter sentence :- \")\n",
        "string_test(sentence)"
      ]
    }
  ]
}