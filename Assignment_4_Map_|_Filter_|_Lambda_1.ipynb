{
  "nbformat": 4,
  "nbformat_minor": 0,
  "metadata": {
    "colab": {
      "provenance": [],
      "authorship_tag": "ABX9TyM2SSfLODQpRlRZQSqtXy5C",
      "include_colab_link": true
    },
    "kernelspec": {
      "name": "python3",
      "display_name": "Python 3"
    },
    "language_info": {
      "name": "python"
    }
  },
  "cells": [
    {
      "cell_type": "markdown",
      "metadata": {
        "id": "view-in-github",
        "colab_type": "text"
      },
      "source": [
        "<a href=\"https://colab.research.google.com/github/andaleeb028/Andaleeb-Tarannum/blob/main/Assignment_4_Map_%7C_Filter_%7C_Lambda_1.ipynb\" target=\"_parent\"><img src=\"https://colab.research.google.com/assets/colab-badge.svg\" alt=\"Open In Colab\"/></a>"
      ]
    },
    {
      "cell_type": "markdown",
      "source": [
        "Write a Python program to create a lambda function that adds 25 to a given number passed in as an argument."
      ],
      "metadata": {
        "id": "ZjPP4z_3phIv"
      }
    },
    {
      "cell_type": "code",
      "execution_count": 7,
      "metadata": {
        "colab": {
          "base_uri": "https://localhost:8080/"
        },
        "id": "31N6ceSDo--y",
        "outputId": "bee93a8f-8d87-4cc3-eccc-03e2df6bc6da"
      },
      "outputs": [
        {
          "output_type": "stream",
          "name": "stdout",
          "text": [
            "Enter any data = 5\n",
            "30\n"
          ]
        }
      ],
      "source": [
        "data = lambda x : x + 25\n",
        "number = int(input(\"Enter any data = \"))\n",
        "print(data(number))\n"
      ]
    }
  ]
}