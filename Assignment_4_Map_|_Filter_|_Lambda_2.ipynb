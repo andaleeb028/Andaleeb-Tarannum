{
  "nbformat": 4,
  "nbformat_minor": 0,
  "metadata": {
    "colab": {
      "provenance": [],
      "authorship_tag": "ABX9TyN8yxETda2SLadQCw/+tyz/",
      "include_colab_link": true
    },
    "kernelspec": {
      "name": "python3",
      "display_name": "Python 3"
    },
    "language_info": {
      "name": "python"
    }
  },
  "cells": [
    {
      "cell_type": "markdown",
      "metadata": {
        "id": "view-in-github",
        "colab_type": "text"
      },
      "source": [
        "<a href=\"https://colab.research.google.com/github/andaleeb028/Andaleeb-Tarannum/blob/main/Assignment_4_Map_%7C_Filter_%7C_Lambda_2.ipynb\" target=\"_parent\"><img src=\"https://colab.research.google.com/assets/colab-badge.svg\" alt=\"Open In Colab\"/></a>"
      ]
    },
    {
      "cell_type": "markdown",
      "source": [
        "Write a Python program to triple all numbers of a given list of integers. Use Python map."
      ],
      "metadata": {
        "id": "-cVEyqM6rOpM"
      }
    },
    {
      "cell_type": "code",
      "execution_count": 3,
      "metadata": {
        "colab": {
          "base_uri": "https://localhost:8080/"
        },
        "id": "CVWc9yBtrKml",
        "outputId": "42e9f243-3d03-45b7-edcb-b1806eb3183a"
      },
      "outputs": [
        {
          "output_type": "stream",
          "name": "stdout",
          "text": [
            "Enter the size = 3\n",
            "Elements in list = 3\n",
            "Elements in list = 4\n",
            "Elements in list = 5\n",
            "[3, 4, 5]\n",
            "Cube or thrice of a number =  [27, 64, 125]\n"
          ]
        }
      ],
      "source": [
        "lst1 = []\n",
        "size1 = int(input(\"Enter the size = \"))\n",
        "for i in range(size1):\n",
        "  elements1 = int(input(\"Elements in list = \"))\n",
        "  lst1.append(elements1)\n",
        "print(lst1)\n",
        "\n",
        "data = list(map(lambda i : i ** 3, lst1))\n",
        "print(\"Cube or thrice of a number = \", data)\n"
      ]
    }
  ]
}