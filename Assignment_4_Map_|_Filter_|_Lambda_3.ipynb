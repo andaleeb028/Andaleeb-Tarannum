{
  "nbformat": 4,
  "nbformat_minor": 0,
  "metadata": {
    "colab": {
      "provenance": [],
      "authorship_tag": "ABX9TyPjQeUCKxS5hZaZjUkq8NZd",
      "include_colab_link": true
    },
    "kernelspec": {
      "name": "python3",
      "display_name": "Python 3"
    },
    "language_info": {
      "name": "python"
    }
  },
  "cells": [
    {
      "cell_type": "markdown",
      "metadata": {
        "id": "view-in-github",
        "colab_type": "text"
      },
      "source": [
        "<a href=\"https://colab.research.google.com/github/andaleeb028/Andaleeb-Tarannum/blob/main/Assignment_4_Map_%7C_Filter_%7C_Lambda_3.ipynb\" target=\"_parent\"><img src=\"https://colab.research.google.com/assets/colab-badge.svg\" alt=\"Open In Colab\"/></a>"
      ]
    },
    {
      "cell_type": "markdown",
      "source": [
        "Write a Python program to square the elements of a list using map() function."
      ],
      "metadata": {
        "id": "LWTV0Xe-sTWB"
      }
    },
    {
      "cell_type": "code",
      "execution_count": 2,
      "metadata": {
        "colab": {
          "base_uri": "https://localhost:8080/"
        },
        "id": "ohmXFSBXsSC_",
        "outputId": "60fbf2cf-5232-45b0-83e1-e8b8f08b6aee"
      },
      "outputs": [
        {
          "output_type": "stream",
          "name": "stdout",
          "text": [
            "Enter the size = 3\n",
            "Elements in list = 2\n",
            "Elements in list = 6\n",
            "Elements in list = 3\n",
            "[2, 6, 3]\n",
            "Twice or square of a number =  [4, 36, 9]\n"
          ]
        }
      ],
      "source": [
        "lst1 = []\n",
        "size1 = int(input(\"Enter the size = \"))\n",
        "for i in range(size1):\n",
        "  elements1 = int(input(\"Elements in list = \"))\n",
        "  lst1.append(elements1)\n",
        "print(lst1)\n",
        "\n",
        "data = list(map(lambda i : i ** 2, lst1))\n",
        "print(\"Twice or square of a number = \", data)"
      ]
    }
  ]
}