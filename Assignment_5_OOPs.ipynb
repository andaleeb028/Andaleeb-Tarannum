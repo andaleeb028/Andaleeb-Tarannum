{
  "nbformat": 4,
  "nbformat_minor": 0,
  "metadata": {
    "colab": {
      "provenance": [],
      "authorship_tag": "ABX9TyPX2xK+WZ76GDiOuEUmgMN6",
      "include_colab_link": true
    },
    "kernelspec": {
      "name": "python3",
      "display_name": "Python 3"
    },
    "language_info": {
      "name": "python"
    }
  },
  "cells": [
    {
      "cell_type": "markdown",
      "metadata": {
        "id": "view-in-github",
        "colab_type": "text"
      },
      "source": [
        "<a href=\"https://colab.research.google.com/github/andaleeb028/Andaleeb-Tarannum/blob/main/Assignment_5_OOPs.ipynb\" target=\"_parent\"><img src=\"https://colab.research.google.com/assets/colab-badge.svg\" alt=\"Open In Colab\"/></a>"
      ]
    },
    {
      "cell_type": "markdown",
      "source": [
        "# **Challenge 1**"
      ],
      "metadata": {
        "id": "UzT1JykG59Da"
      }
    },
    {
      "cell_type": "code",
      "execution_count": 2,
      "metadata": {
        "colab": {
          "base_uri": "https://localhost:8080/"
        },
        "id": "P_xsuvfV5kQt",
        "outputId": "9319cd1d-38b7-4076-d865-9ec522ee1cb1"
      },
      "outputs": [
        {
          "output_type": "stream",
          "name": "stdout",
          "text": [
            "Enter the first number:4\n",
            "Enter the second number :3\n",
            "Enter the third number:2\n",
            "square of the number are: (16, 9, 4)\n",
            "sum of the square are : 29\n"
          ]
        }
      ],
      "source": [
        "class Challenge1:\n",
        "    def __init__(self):\n",
        "        self.x = x\n",
        "        self.y = y\n",
        "        self.z = z\n",
        "\n",
        "    def sqsum(self):\n",
        "        return ((self.x **2), (self.y **2), (self.z **2))\n",
        "\n",
        "    def sum(self):\n",
        "        return ((self.x **2) + (self.y **2) + (self.z **2))\n",
        "\n",
        "x = int(input(\"Enter the first number:\"))\n",
        "y = int(input(\"Enter the second number :\"))\n",
        "z = int(input(\"Enter the third number:\"))\n",
        "\n",
        "a = Challenge1()\n",
        "\n",
        "print(\"square of the number are:\",a.sqsum())\n",
        "print(\"sum of the square are :\",a.sum())\n"
      ]
    },
    {
      "cell_type": "markdown",
      "source": [
        "# **Challenge 2**"
      ],
      "metadata": {
        "id": "OFwdX-Mf6EFx"
      }
    },
    {
      "cell_type": "code",
      "source": [
        "class CalculatorChallenge2:\n",
        "    def __init__(self, num1, num2):\n",
        "        self.num1 = num1\n",
        "        self.num2 = num2\n",
        "\n",
        "    def add(self):\n",
        "        return (self.num2 + self.num1)\n",
        "\n",
        "    def subtract(self):\n",
        "        return (self.num2 - self.num1)\n",
        "\n",
        "    def multiply(self):\n",
        "        return (self.num2 * self.num1)\n",
        "\n",
        "    def divide(self):\n",
        "        return (self.num2 / self.num1)\n",
        "\n",
        "\n",
        "obj = CalculatorChallenge2(10, 94)\n",
        "print(\"Addition:\", obj.add())\n",
        "print(\"Subtraction:\", obj.subtract())\n",
        "print(\"Mutliplication:\", obj.multiply())\n",
        "print(\"Division:\", obj.divide())"
      ],
      "metadata": {
        "colab": {
          "base_uri": "https://localhost:8080/"
        },
        "id": "h9B_DVw_6HUG",
        "outputId": "5b016cd7-58a7-4474-9d40-7816d6ee38b3"
      },
      "execution_count": 3,
      "outputs": [
        {
          "output_type": "stream",
          "name": "stdout",
          "text": [
            "Addition: 104\n",
            "Subtraction: 84\n",
            "Mutliplication: 940\n",
            "Division: 9.4\n"
          ]
        }
      ]
    },
    {
      "cell_type": "markdown",
      "source": [
        "# **Challenge 3**"
      ],
      "metadata": {
        "id": "jIRbtw0O7Dno"
      }
    },
    {
      "cell_type": "code",
      "source": [
        "class StudentChallenge3:\n",
        "    __name = None\n",
        "    __rollNumber = None\n",
        "    \n",
        "    def setName(self, name):\n",
        "        self.__name = name\n",
        "\n",
        "    def getName(self):\n",
        "        return self.__name\n",
        "\n",
        "    def setRollNumber(self, rollNumber):\n",
        "        self.__rollNumber = rollNumber\n",
        "\n",
        "    def getRollNumber(self):\n",
        "        return self.__rollNumber\n",
        "\n",
        "\n",
        "demo1 = StudentChallenge3()\n",
        "demo1.setName(\"Andaleeb\")\n",
        "print(\"Name:\", demo1.getName())\n",
        "demo1.setRollNumber(202015838)\n",
        "print(\"Roll Number:\", demo1.getRollNumber())"
      ],
      "metadata": {
        "colab": {
          "base_uri": "https://localhost:8080/"
        },
        "id": "-iD21Sj77DFH",
        "outputId": "e00c4037-008a-4f00-e492-7836e08e66ed"
      },
      "execution_count": 5,
      "outputs": [
        {
          "output_type": "stream",
          "name": "stdout",
          "text": [
            "Name: Andaleeb\n",
            "Roll Number: 202015838\n"
          ]
        }
      ]
    },
    {
      "cell_type": "markdown",
      "source": [
        "# **Challenge 4**"
      ],
      "metadata": {
        "id": "ypcaVInb7aKd"
      }
    },
    {
      "cell_type": "code",
      "source": [
        "class AccountChallenge4:\n",
        "    def __init__(self, title=None, balance=0):\n",
        "        self.title = title\n",
        "        self.balance = balance\n",
        "\n",
        "\n",
        "class SavingsAccount(AccountChallenge4):\n",
        "    def __init__(self, title=None, balance=0, interestRate=0):\n",
        "        super().__init__(title, balance)\n",
        "        self.interestRate = interestRate\n",
        "\n",
        "obj = AccountChallenge4(\"Andaleeb\",5000)\n",
        "print(obj.title)\n",
        "print(obj.balance)"
      ],
      "metadata": {
        "colab": {
          "base_uri": "https://localhost:8080/"
        },
        "id": "-FPzmMdU7Vet",
        "outputId": "31cea4ff-8daa-4bd3-8950-6d4ddc7acf12"
      },
      "execution_count": 6,
      "outputs": [
        {
          "output_type": "stream",
          "name": "stdout",
          "text": [
            "Andaleeb\n",
            "5000\n"
          ]
        }
      ]
    },
    {
      "cell_type": "markdown",
      "source": [
        "# **Challenge 5**"
      ],
      "metadata": {
        "id": "qi7bIeBA75By"
      }
    },
    {
      "cell_type": "code",
      "source": [
        "class AccountChallenge5:  \n",
        "    def __init__(self, title=None, balance=0):\n",
        "        self.title = title\n",
        "        self.balance = balance\n",
        "    \n",
        "    \n",
        "    def withdrawal(self, amount):\n",
        "        self.balance = self.balance - amount\n",
        "    \n",
        "   \n",
        "    def deposit(self, amount):\n",
        "        self.balance = self.balance + amount\n",
        "    \n",
        "    \n",
        "    def getBalance(self):\n",
        "        return self.balance\n",
        "\n",
        "\n",
        "class SavingsAccount(AccountChallenge5):\n",
        "    def __init__(self, title=None, balance=0, interestRate=0):\n",
        "        super().__init__(title, balance)\n",
        "        self.interestRate = interestRate\n",
        "    \n",
        "    \n",
        "    def interestAmount(self):\n",
        "        return (self.balance * self.interestRate / 100)\n",
        "\n",
        "\n",
        "obj1 = SavingsAccount(\"Andaleeb\", 2000, 5)\n",
        "print(\"Initial Balance:\", obj1.getBalance())\n",
        "obj1.withdrawal(500)\n",
        "print(\"Balance after withdrawal:\", obj1.getBalance())\n",
        "obj1.deposit(500)\n",
        "print(\"Balance after deposit:\", obj1.getBalance())\n",
        "print(\"Interest on current balance:\", obj1.interestAmount())"
      ],
      "metadata": {
        "colab": {
          "base_uri": "https://localhost:8080/"
        },
        "id": "5v7iMOLi7m6J",
        "outputId": "185399c0-e8bf-48bf-eb37-bdd09250ad7e"
      },
      "execution_count": 8,
      "outputs": [
        {
          "output_type": "stream",
          "name": "stdout",
          "text": [
            "Initial Balance: 2000\n",
            "Balance after withdrawal: 1500\n",
            "Balance after deposit: 2000\n",
            "Interest on current balance: 100.0\n"
          ]
        }
      ]
    }
  ]
}