{
  "nbformat": 4,
  "nbformat_minor": 0,
  "metadata": {
    "colab": {
      "provenance": [],
      "collapsed_sections": [],
      "authorship_tag": "ABX9TyO5DWNNdaFazZuPu4TT6IXH",
      "include_colab_link": true
    },
    "kernelspec": {
      "name": "python3",
      "display_name": "Python 3"
    },
    "language_info": {
      "name": "python"
    }
  },
  "cells": [
    {
      "cell_type": "markdown",
      "metadata": {
        "id": "view-in-github",
        "colab_type": "text"
      },
      "source": [
        "<a href=\"https://colab.research.google.com/github/andaleeb028/Andaleeb-Tarannum/blob/main/CountEvenOrOdd.ipynb\" target=\"_parent\"><img src=\"https://colab.research.google.com/assets/colab-badge.svg\" alt=\"Open In Colab\"/></a>"
      ]
    },
    {
      "cell_type": "code",
      "execution_count": 10,
      "metadata": {
        "colab": {
          "base_uri": "https://localhost:8080/"
        },
        "id": "Mk-Zz38o-M_K",
        "outputId": "d4e1e3ec-a318-4b11-b94d-4dfa1a843d14"
      },
      "outputs": [
        {
          "output_type": "stream",
          "name": "stdout",
          "text": [
            "Even counts 6\n",
            "Odd counts 3\n"
          ]
        }
      ],
      "source": [
        "lst = [2,56,78,33,55,67,90,100,34]\n",
        "count1 = 0\n",
        "count2 = 0\n",
        "for i in lst:\n",
        "  if i % 2 == 0:\n",
        "    count1 = count1 + 1\n",
        "  else:\n",
        "    count2 = count2 + 1\n",
        "print(\"Even counts\", count1)\n",
        "print(\"Odd counts\", count2)\n"
      ]
    },
    {
      "cell_type": "code",
      "source": [],
      "metadata": {
        "id": "kxFVcsIXBnBw"
      },
      "execution_count": null,
      "outputs": []
    }
  ]
}