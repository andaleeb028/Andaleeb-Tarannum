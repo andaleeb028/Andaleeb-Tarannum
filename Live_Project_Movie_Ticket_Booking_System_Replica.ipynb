{
  "nbformat": 4,
  "nbformat_minor": 0,
  "metadata": {
    "colab": {
      "provenance": [],
      "authorship_tag": "ABX9TyPrbqMENxoLZ1IednCOM8g3",
      "include_colab_link": true
    },
    "kernelspec": {
      "name": "python3",
      "display_name": "Python 3"
    },
    "language_info": {
      "name": "python"
    }
  },
  "cells": [
    {
      "cell_type": "markdown",
      "metadata": {
        "id": "view-in-github",
        "colab_type": "text"
      },
      "source": [
        "<a href=\"https://colab.research.google.com/github/andaleeb028/Andaleeb-Tarannum/blob/main/Live_Project_Movie_Ticket_Booking_System_Replica.ipynb\" target=\"_parent\"><img src=\"https://colab.research.google.com/assets/colab-badge.svg\" alt=\"Open In Colab\"/></a>"
      ]
    },
    {
      "cell_type": "code",
      "execution_count": 1,
      "metadata": {
        "colab": {
          "base_uri": "https://localhost:8080/",
          "height": 133
        },
        "id": "Cp4SbSIh1v01",
        "outputId": "f5ba2772-1175-4943-f2d3-83eee07f74f2"
      },
      "outputs": [
        {
          "output_type": "error",
          "ename": "SyntaxError",
          "evalue": "ignored",
          "traceback": [
            "\u001b[0;36m  File \u001b[0;32m\"<ipython-input-1-61d538204e50>\"\u001b[0;36m, line \u001b[0;32m1\u001b[0m\n\u001b[0;31m    if __name__ = \"__main__\":\u001b[0m\n\u001b[0m                ^\u001b[0m\n\u001b[0;31mSyntaxError\u001b[0m\u001b[0;31m:\u001b[0m invalid syntax\n"
          ]
        }
      ],
      "source": [
        "from ticketbooking import movie_ticket\n",
        "\n",
        "class Main:\n",
        "    def execute(self,choice):\n",
        "        if choice == 1:\n",
        "            print(\"***************Show the seats****************\")\n",
        "            movie_ticket_obj.show_seats()\n",
        "        if choice == 2:\n",
        "            print(\"***************Buy a ticket****************\")\n",
        "        if choice == 3:\n",
        "            print(\"***************Statistics****************\")\n",
        "        if choice == 4:\n",
        "            print(\"***************Show booked tickets user info****************\")\n",
        "        if choice == 0:\n",
        "            print(\"***************Thank You for connecting with us! Good Day!****************\")\n",
        "\n",
        "if __name__ == \"__main__\":\n",
        "    rows = int(input(\"Enter the number of rows : \"))\n",
        "    columns = int(input(\"Enter the number of seats in each row : \"))\n",
        "\n",
        "    movie_ticket_obj = movie_ticket(rows,columns)\n",
        "    obj = Main()\n",
        "    choice = int(input(\"Enter \\n1.Show the seats \\n2.Buy a ticket \\n3.Statistics \\n4.Show booked tickets user info \\n0.Exit \\n\"))\n",
        "    obj.execute(choice)"
      ]
    },
    {
      "cell_type": "code",
      "source": [
        "def show_seats(self):\n",
        "        for i in range(self.rows+1):\n",
        "            for j in range(self.columns+1):\n",
        "                if i == 0:\n",
        "                    if j == 0:\n",
        "                        print(\" \",end=\" \")\n",
        "                    else:\n",
        "                        print(j,end=\" \")\n",
        "                elif j == 0:\n",
        "                    print(i, end=\" \")\n",
        "                else:\n",
        "                    print(\"S\",end=\" \")\n",
        "            print()\n",
        "\n",
        "def buy_ticket(self):\n",
        "        row = int(input(\"Enter the row number : \"))\n",
        "        column = int(input(\"Enter the column number : \"))\n",
        "\n",
        "        ticket_price = 10\n",
        "        seat_no = str(row) + str(column) #24\n",
        "\n",
        "        option = int(input(f\"Your opt row is {row} and column is {column}, so the price for your seat is Rs.{ticket_price}.If you still wish to book the ticket please enter \\n1.Yes \\n2.No \\n\"))\n",
        "\n",
        "        if option == 1:\n",
        "            name = input(\"Enter your name : \")\n",
        "            gender = input(\"Enter your gender : \")\n",
        "            age = int(input(\"Enter your age : \"))\n",
        "            phone_no = int(input(\"Enter your mobile no : \"))\n",
        "            self.user_details[seat_no]=[name,gender,age,phone_no]\n",
        "            print(self.user_details)\n",
        "            print(\"Booked Successfully\")\n",
        "        else:\n",
        "            print(\"No Problem! Thank You for connecting with Book my Show!!!\")\n",
        "\n",
        "def statistic():\n",
        "  ticket_price = 10\n",
        "  purchased_ticket = len(self.user_details)\n",
        "\n",
        "\n",
        "\n"
      ],
      "metadata": {
        "id": "kxZqGykFFGzE"
      },
      "execution_count": null,
      "outputs": []
    },
    {
      "cell_type": "code",
      "source": [],
      "metadata": {
        "id": "nhQCYWWfFDjC"
      },
      "execution_count": null,
      "outputs": []
    }
  ]
}