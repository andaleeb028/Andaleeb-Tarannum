{
  "nbformat": 4,
  "nbformat_minor": 0,
  "metadata": {
    "colab": {
      "provenance": [],
      "authorship_tag": "ABX9TyNVt9bDnkJKJFSUpTDX/a2j",
      "include_colab_link": true
    },
    "kernelspec": {
      "name": "python3",
      "display_name": "Python 3"
    },
    "language_info": {
      "name": "python"
    }
  },
  "cells": [
    {
      "cell_type": "markdown",
      "metadata": {
        "id": "view-in-github",
        "colab_type": "text"
      },
      "source": [
        "<a href=\"https://colab.research.google.com/github/andaleeb028/Andaleeb-Tarannum/blob/main/ReverseOfString.ipynb\" target=\"_parent\"><img src=\"https://colab.research.google.com/assets/colab-badge.svg\" alt=\"Open In Colab\"/></a>"
      ]
    },
    {
      "cell_type": "code",
      "execution_count": 4,
      "metadata": {
        "colab": {
          "base_uri": "https://localhost:8080/"
        },
        "id": "uvHcIkXJ831B",
        "outputId": "2c0d7665-d64c-454c-aa65-df86b346273b"
      },
      "outputs": [
        {
          "output_type": "stream",
          "name": "stdout",
          "text": [
            "Enter any string = Edyoda\n",
            "adoydE\n",
            "\n"
          ]
        }
      ],
      "source": [
        "string = input(\"Enter any string = \")\n",
        "for i in range(len(string) - 1, -1, -1):\n",
        "  print(string[i], end = \"\")\n",
        "print(\"\\n\")\n"
      ]
    }
  ]
}