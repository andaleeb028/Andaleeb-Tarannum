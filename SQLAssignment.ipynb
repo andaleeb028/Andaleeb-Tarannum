{
  "nbformat": 4,
  "nbformat_minor": 0,
  "metadata": {
    "colab": {
      "provenance": [],
      "authorship_tag": "ABX9TyOJbF5DjZe+8UIdo1Tg/7zc",
      "include_colab_link": true
    },
    "kernelspec": {
      "name": "python3",
      "display_name": "Python 3"
    },
    "language_info": {
      "name": "python"
    }
  },
  "cells": [
    {
      "cell_type": "markdown",
      "metadata": {
        "id": "view-in-github",
        "colab_type": "text"
      },
      "source": [
        "<a href=\"https://colab.research.google.com/github/andaleeb028/Andaleeb-Tarannum/blob/main/SQLAssignment.ipynb\" target=\"_parent\"><img src=\"https://colab.research.google.com/assets/colab-badge.svg\" alt=\"Open In Colab\"/></a>"
      ]
    },
    {
      "cell_type": "code",
      "execution_count": 4,
      "metadata": {
        "id": "vkEWy7sjGegT"
      },
      "outputs": [],
      "source": [
        "import sqlite3\n",
        "conn = sqlite3.connect('test.db')"
      ]
    },
    {
      "cell_type": "code",
      "source": [
        "conn.execute('''\n",
        "CREATE TABLE IF NOT EXISTS COUNTRIES(  \n",
        "  COUNTRY_id VARCHAR(2),  \n",
        "  COUNTRY_name VARCHAR(40)  \n",
        "  CHECK(COUNTRY_name IN('Italy','China','India')),   \n",
        "  REGION_id DECIMAL(10,0));\n",
        "''')\n",
        "conn.commit()\n",
        "print(\"Country table created\")"
      ],
      "metadata": {
        "colab": {
          "base_uri": "https://localhost:8080/"
        },
        "id": "A74KdHUtHOeD",
        "outputId": "aaf9d78a-257d-48ba-8075-b01655203e62"
      },
      "execution_count": null,
      "outputs": [
        {
          "output_type": "stream",
          "name": "stdout",
          "text": [
            "Country table created\n"
          ]
        }
      ]
    },
    {
      "cell_type": "code",
      "source": [
        "conn.execute('''\n",
        "CREATE TABLE IF NOT EXISTS COUNTRIES(  \n",
        "  COUNTRY_id VARCHAR(2) NOT NULL UNIQUE PRIMARY KEY,\n",
        "  COUNTRY_name VARCHAR(40) NOT NULL);\n",
        "''')\n",
        "conn.commit()\n",
        "print(\"Countries table created\")"
      ],
      "metadata": {
        "colab": {
          "base_uri": "https://localhost:8080/"
        },
        "id": "zHdVeGD4s7C4",
        "outputId": "0fc252c5-7d80-4996-f01b-6883c81e35e3"
      },
      "execution_count": 10,
      "outputs": [
        {
          "output_type": "stream",
          "name": "stdout",
          "text": [
            "Countries table created\n"
          ]
        }
      ]
    },
    {
      "cell_type": "code",
      "source": [
        "conn.execute('''\n",
        "CREATE TABLE IF NOT EXISTS COUNTRY_new\n",
        "AS SELECT * FROM COUNTRIES;\n",
        "''')\n",
        "conn.commit()\n",
        "print(\"Country_New table created\")"
      ],
      "metadata": {
        "colab": {
          "base_uri": "https://localhost:8080/"
        },
        "id": "rF_dLcXhtDQ0",
        "outputId": "4d20c880-7609-4f86-a68a-2e04ede1b9e5"
      },
      "execution_count": 9,
      "outputs": [
        {
          "output_type": "stream",
          "name": "stdout",
          "text": [
            "Country_New table created\n"
          ]
        }
      ]
    },
    {
      "cell_type": "code",
      "source": [
        "conn.execute('''\n",
        "SELECT * FROM COUNTRY_new;\n",
        "''')\n",
        "conn.commit()\n",
        "print(\"Viewing\")"
      ],
      "metadata": {
        "colab": {
          "base_uri": "https://localhost:8080/"
        },
        "id": "qcSeJxsAtfh6",
        "outputId": "66bf2c13-c932-4eb9-9740-99bf639b75b4"
      },
      "execution_count": 11,
      "outputs": [
        {
          "output_type": "stream",
          "name": "stdout",
          "text": [
            "Viewing\n"
          ]
        }
      ]
    },
    {
      "cell_type": "code",
      "source": [
        "conn.execute('''\n",
        "INSERT INTO COUNTRY_new (COUNTRY_id, COUNTRY_name)\n",
        "VALUES ('02', 'India');\n",
        "''')\n",
        "conn.execute('''\n",
        "INSERT INTO COUNTRY_new (COUNTRY_id, COUNTRY_name)\n",
        "VALUES ('01', 'China');\n",
        "''')\n",
        "conn.execute('''\n",
        "INSERT INTO COUNTRY_new (COUNTRY_id, COUNTRY_name)\n",
        "VALUES ('03', 'Italy');\n",
        "''')\n",
        "conn.commit()"
      ],
      "metadata": {
        "id": "bmqEtYl2up9s"
      },
      "execution_count": 16,
      "outputs": []
    },
    {
      "cell_type": "code",
      "source": [
        "conn = sqlite3.connect('test.db')\n",
        "cursor = conn.execute('''\n",
        "SELECT * FROM COUNTRY_new;\n",
        "''')\n",
        "for row in cursor:\n",
        "  print(row)"
      ],
      "metadata": {
        "colab": {
          "base_uri": "https://localhost:8080/"
        },
        "id": "ZTUY-wT-uPXw",
        "outputId": "e21a5d40-3e8f-4ac4-ecb8-3c6ed30bcd09"
      },
      "execution_count": 17,
      "outputs": [
        {
          "output_type": "stream",
          "name": "stdout",
          "text": [
            "('02', 'India')\n",
            "('02', 'India')\n",
            "('01', 'Chine')\n",
            "('03', 'Italy')\n"
          ]
        }
      ]
    }
  ]
}